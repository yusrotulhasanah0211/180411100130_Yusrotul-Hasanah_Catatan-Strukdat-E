{
 "cells": [
  {
   "cell_type": "code",
   "execution_count": 1,
   "metadata": {},
   "outputs": [
    {
     "name": "stdout",
     "output_type": "stream",
     "text": [
      "<bound method Stack.isEmpty of <__main__.Stack object at 0x0000000004D6A470>>\n",
      "true\n",
      "true\n",
      "hello\n"
     ]
    }
   ],
   "source": [
    "#stack\n",
    "class Stack: #class\n",
    "    def __init__(self): #konstruktor #__init__ (inisiall)\n",
    "        self.items=[]\n",
    "    def isEmpty(self): #method\n",
    "        return self.items == []\n",
    "    def push(self,item):\n",
    "        self.items.append(item)\n",
    "    def pop(self):\n",
    "        return self.items.pop()\n",
    "    def peek(self):\n",
    "        return self.items[len(self.items)-1]\n",
    "    def size(self):\n",
    "        return len(self.items)\n",
    "    \n",
    "s=Stack()\n",
    "s.push('hello')\n",
    "s.push('true')\n",
    "print(s.isEmpty)\n",
    "print(s.peek())\n",
    "while not s.isEmpty():\n",
    "    print(s.pop())"
   ]
  },
  {
   "cell_type": "code",
   "execution_count": 22,
   "metadata": {},
   "outputs": [
    {
     "name": "stdout",
     "output_type": "stream",
     "text": [
      "a\n",
      "r\n",
      "u\n",
      "p\n",
      "a\n"
     ]
    }
   ],
   "source": [
    "#stack 2\n",
    "class Stack: #class\n",
    "    def __init__(self): #konstruktor #__init__ (inisiall)\n",
    "        self.items=[]\n",
    "    def isEmpty(self): #method\n",
    "        return self.items == []\n",
    "    def push(self,item):\n",
    "        self.items.append(item)\n",
    "    def pop(self):\n",
    "        return self.items.pop()\n",
    "    def peek(self):\n",
    "        return self.items[len(self.items)-1]\n",
    "    def size(self):\n",
    "        return len(self.items)\n",
    "    \n",
    "s=Stack()\n",
    "s.push('S')\n",
    "s.push('i')\n",
    "s.push('n')\n",
    "s.push('g')\n",
    "s.push('a')\n",
    "s.push('p')\n",
    "s.push('u')\n",
    "s.push('r')\n",
    "s.push('a')\n",
    "while not s.isEmpty() and s.peek() != 'g':\n",
    "    print(s.pop())"
   ]
  },
  {
   "cell_type": "code",
   "execution_count": 4,
   "metadata": {},
   "outputs": [
    {
     "name": "stdout",
     "output_type": "stream",
     "text": [
      "3\n",
      "4\n",
      "dog\n",
      "True\n"
     ]
    }
   ],
   "source": [
    "#Queue\n",
    "class Queue: #class\n",
    "    def __init__(self): #konstruktor #__init__ (inisiall)\n",
    "        self.items=[]\n",
    "    def isEmpty(self): #method\n",
    "        return self.items == []\n",
    "    def enqueue(self,item):\n",
    "        self.items.insert(0,item)\n",
    "    def dequeue(self):\n",
    "        return self.items.pop()\n",
    "    def size(self):\n",
    "        return len(self.items)\n",
    "    \n",
    "q=Queue()\n",
    "q.enqueue(4)\n",
    "q.enqueue('dog')\n",
    "q.enqueue(True)\n",
    "print(q.size())\n",
    "print(q.dequeue())\n",
    "while not q.isEmpty():\n",
    "    print(q.dequeue())"
   ]
  },
  {
   "cell_type": "code",
   "execution_count": 2,
   "metadata": {},
   "outputs": [
    {
     "name": "stdout",
     "output_type": "stream",
     "text": [
      "masukkan jumlah orang yang ingin ada dipermainan 2\n",
      "masukkan nama orang yang ingin ada didalam antrian andi\n",
      "masukkan nama orang yang ingin ada didalam antrian jaki\n",
      "orang yang berada didalam antrian ['jaki', 'andi']\n",
      "masukkan nama orang yang ingin ditangkap jaki\n",
      "looping sebanyak 0\n"
     ]
    }
   ],
   "source": [
    "#Queue\n",
    "#Queue\n",
    "class Queue: #class\n",
    "    def __init__(self): #konstruktor #__init__ (inisiall)\n",
    "        self.items=[]\n",
    "    def isEmpty(self): #method\n",
    "        return self.items == []\n",
    "    def enqueue(self,item):\n",
    "        self.items.insert(0,item)\n",
    "    def dequeue(self):\n",
    "        return self.items.pop()\n",
    "    def size(self):\n",
    "        return len(self.items)\n",
    "    def printqueue(selft):\n",
    "        return selft.items\n",
    "    def peek(self):\n",
    "        return (self.items[len(self.items)-1])\n",
    "q = Queue()\n",
    "jumlah = int(input('masukkan jumlah orang yang ingin ada dipermainan '))\n",
    "for i in range(jumlah):\n",
    "    nama = input('masukkan nama orang yang ingin ada didalam antrian ')\n",
    "    q.enqueue(nama)\n",
    "print('orang yang berada didalam antrian', q.printqueue())\n",
    "cari = input('masukkan nama orang yang ingin ditangkap ')\n",
    "loop = 0\n",
    "found = False\n",
    "while not found and cari == q.isEmpty:\n",
    "    if cari == q.peek():\n",
    "        print('selamat anda menemukannya')\n",
    "        found = True\n",
    "    elif cari != q.peek():\n",
    "        masukan = q.dequeue()\n",
    "        q.enqueue(masukan)\n",
    "        found = False\n",
    "        print('Looping ke -', (loop+1), '=', q.printqueue())\n",
    "    elif cari != q.isEmpty():\n",
    "        print('data tidak ada')\n",
    "    loop += 1\n",
    "print('looping sebanyak', loop)\n"
   ]
  },
  {
   "cell_type": "code",
   "execution_count": 4,
   "metadata": {},
   "outputs": [
    {
     "name": "stdout",
     "output_type": "stream",
     "text": [
      "masukkan sebuah kalimat disini Reffer\n",
      "kalimat ini adalah sebuah palindrome.\n"
     ]
    }
   ],
   "source": [
    "#palindrome\n",
    "class Stack: #class\n",
    "    def __init__(self): #konstruktor #__init__ (inisiall)\n",
    "        self.items=[]\n",
    "    def isEmpty(self): #method\n",
    "        return self.items == []\n",
    "    def push(self,item):\n",
    "        self.items.append(item)\n",
    "    def pop(self):\n",
    "        return self.items.pop()\n",
    "    def peek(self):\n",
    "        return self.items[len(self.items)-1]\n",
    "    def size(self):\n",
    "        return len(self.items)\n",
    "q = Stack()\n",
    "kata = input('masukkan sebuah kalimat disini ')\n",
    "kata = kata.lower()\n",
    "for i in kata:\n",
    "    q.push(i)\n",
    "\n",
    "reversed_text = ''\n",
    "while not q.isEmpty():\n",
    "    reversed_text = reversed_text + q.pop()\n",
    "\n",
    "if kata == reversed_text:\n",
    "    print('kalimat ini adalah sebuah palindrome.')\n",
    "else:\n",
    "    print('kalimat ini adalah bukan sebuah palindrome.')\n"
   ]
  },
  {
   "cell_type": "code",
   "execution_count": 11,
   "metadata": {},
   "outputs": [
    {
     "name": "stdout",
     "output_type": "stream",
     "text": [
      "2\n"
     ]
    }
   ],
   "source": [
    "#Dequeue\n",
    "class deQueue:\n",
    "    def __init__(self): #konstruktor #__init__ (inisiall)\n",
    "        self.items=[]\n",
    "    def isEmpty(self): #method\n",
    "        return self.items == []\n",
    "    def addrear(self,item):\n",
    "        self.items.insert(0,item)\n",
    "    def removefront(self):\n",
    "        return self.items.pop()\n",
    "    def addfront(self,item):\n",
    "        self.items.append(item)\n",
    "    def removerear(self):\n",
    "        return self.items.pop(0,item)\n",
    "    def size(self):\n",
    "        return len(self.items)\n",
    "\n",
    "q = deQueue()\n",
    "q.addrear(4)\n",
    "q.addfront(5)\n",
    "q.addrear(3)\n",
    "q.addfront(2)\n",
    "print(q.removefront())"
   ]
  },
  {
   "cell_type": "code",
   "execution_count": null,
   "metadata": {},
   "outputs": [],
   "source": []
  },
  {
   "cell_type": "code",
   "execution_count": null,
   "metadata": {},
   "outputs": [],
   "source": []
  }
 ],
 "metadata": {
  "kernelspec": {
   "display_name": "Python 3",
   "language": "python",
   "name": "python3"
  },
  "language_info": {
   "codemirror_mode": {
    "name": "ipython",
    "version": 3
   },
   "file_extension": ".py",
   "mimetype": "text/x-python",
   "name": "python",
   "nbconvert_exporter": "python",
   "pygments_lexer": "ipython3",
   "version": "3.6.5"
  }
 },
 "nbformat": 4,
 "nbformat_minor": 2
}
